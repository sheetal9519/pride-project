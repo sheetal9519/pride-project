{
 "cells": [
  {
   "cell_type": "markdown",
   "id": "0b97eb7b",
   "metadata": {},
   "source": [
    "Python Eval Function--Evaluating Expressions Dynamically\n"
   ]
  },
  {
   "cell_type": "code",
   "execution_count": 1,
   "id": "4980a899",
   "metadata": {},
   "outputs": [
    {
     "ename": "SyntaxError",
     "evalue": "invalid syntax (1658714209.py, line 1)",
     "output_type": "error",
     "traceback": [
      "\u001b[1;36m  Cell \u001b[1;32mIn[1], line 1\u001b[1;36m\u001b[0m\n\u001b[1;33m    5*5+\u001b[0m\n\u001b[1;37m        ^\u001b[0m\n\u001b[1;31mSyntaxError\u001b[0m\u001b[1;31m:\u001b[0m invalid syntax\n"
     ]
    }
   ],
   "source": [
    "5*5+"
   ]
  },
  {
   "cell_type": "code",
   "execution_count": 7,
   "id": "0692c514",
   "metadata": {},
   "outputs": [
    {
     "data": {
      "text/plain": [
       "28.5"
      ]
     },
     "execution_count": 7,
     "metadata": {},
     "output_type": "execute_result"
    }
   ],
   "source": [
    "##Eval function evaluate python expression which are written as strings\n",
    "eval(\"5*5+7/2\")"
   ]
  },
  {
   "cell_type": "code",
   "execution_count": 8,
   "id": "e0f5e6a6",
   "metadata": {},
   "outputs": [
    {
     "name": "stdout",
     "output_type": "stream",
     "text": [
      "Enter the python expression sum([1,2,3,4,5])\n"
     ]
    },
    {
     "data": {
      "text/plain": [
       "15"
      ]
     },
     "execution_count": 8,
     "metadata": {},
     "output_type": "execute_result"
    }
   ],
   "source": [
    "eval(input(\"Enter the python expression \"))\n"
   ]
  },
  {
   "cell_type": "code",
   "execution_count": 9,
   "id": "dea1d216",
   "metadata": {},
   "outputs": [
    {
     "data": {
      "text/plain": [
       "15"
      ]
     },
     "execution_count": 9,
     "metadata": {},
     "output_type": "execute_result"
    }
   ],
   "source": [
    "sum([1,2,3,4,5])\n"
   ]
  },
  {
   "cell_type": "code",
   "execution_count": 10,
   "id": "cc8fa19d",
   "metadata": {},
   "outputs": [],
   "source": [
    "def square_num(num):\n",
    "    return num**2\n"
   ]
  },
  {
   "cell_type": "code",
   "execution_count": 11,
   "id": "af69a590",
   "metadata": {},
   "outputs": [
    {
     "data": {
      "text/plain": [
       "4"
      ]
     },
     "execution_count": 11,
     "metadata": {},
     "output_type": "execute_result"
    }
   ],
   "source": [
    "eval(\"square_num(2)\")\n"
   ]
  },
  {
   "cell_type": "markdown",
   "id": "b18a6dbe",
   "metadata": {},
   "source": [
    "How does Eval work\n"
   ]
  },
  {
   "cell_type": "markdown",
   "id": "81897f26",
   "metadata": {},
   "source": [
    "1.Parse python Expression\n",
    "2.compile into a byte code\n",
    "3.Evaluate the python expression\n",
    "4.It will return the result"
   ]
  },
  {
   "cell_type": "code",
   "execution_count": 12,
   "id": "98844ab4",
   "metadata": {},
   "outputs": [],
   "source": [
    "var=compile(\"5*5\",\"<string>\",\"eval\")\n"
   ]
  },
  {
   "cell_type": "code",
   "execution_count": 13,
   "id": "a52a4ab5",
   "metadata": {},
   "outputs": [
    {
     "data": {
      "text/plain": [
       "25"
      ]
     },
     "execution_count": 13,
     "metadata": {},
     "output_type": "execute_result"
    }
   ],
   "source": [
    "eval(var)\n"
   ]
  },
  {
   "cell_type": "code",
   "execution_count": 14,
   "id": "2c018e18",
   "metadata": {},
   "outputs": [
    {
     "data": {
      "text/plain": [
       "160"
      ]
     },
     "execution_count": 14,
     "metadata": {},
     "output_type": "execute_result"
    }
   ],
   "source": [
    "### GLobals\n",
    "x=10\n",
    "eval(\"x+50+x**2\",{\"x\":x})"
   ]
  },
  {
   "cell_type": "code",
   "execution_count": 15,
   "id": "47db5e70",
   "metadata": {},
   "outputs": [
    {
     "data": {
      "text/plain": [
       "1200"
      ]
     },
     "execution_count": 15,
     "metadata": {},
     "output_type": "execute_result"
    }
   ],
   "source": [
    "x=100\n",
    "z=100\n",
    "eval(\"x+z+w\",{\"x\":x,\"z\":100,\"w\":1000})"
   ]
  },
  {
   "cell_type": "code",
   "execution_count": 16,
   "id": "7c08b652",
   "metadata": {},
   "outputs": [
    {
     "data": {
      "text/plain": [
       "10200"
      ]
     },
     "execution_count": 16,
     "metadata": {},
     "output_type": "execute_result"
    }
   ],
   "source": [
    "x=100\n",
    "z=100\n",
    "y=10000\n",
    "eval(\"x+z+y\")\n"
   ]
  },
  {
   "cell_type": "code",
   "execution_count": 17,
   "id": "cabd2e92",
   "metadata": {},
   "outputs": [
    {
     "data": {
      "text/plain": [
       "1300"
      ]
     },
     "execution_count": 17,
     "metadata": {},
     "output_type": "execute_result"
    }
   ],
   "source": [
    "eval(\"a+b+c\",{},{\"a\":100,\"b\":200,\"c\":1000})\n"
   ]
  },
  {
   "cell_type": "code",
   "execution_count": 18,
   "id": "222d74e7",
   "metadata": {},
   "outputs": [
    {
     "data": {
      "text/plain": [
       "True"
      ]
     },
     "execution_count": 18,
     "metadata": {},
     "output_type": "execute_result"
    }
   ],
   "source": [
    "a=100\n",
    "b=200\n",
    "eval(\"a<b\")\n"
   ]
  },
  {
   "cell_type": "code",
   "execution_count": 19,
   "id": "c6d2f325",
   "metadata": {},
   "outputs": [
    {
     "ename": "NameError",
     "evalue": "name 'x' is not defined",
     "output_type": "error",
     "traceback": [
      "\u001b[1;31m---------------------------------------------------------------------------\u001b[0m",
      "\u001b[1;31mNameError\u001b[0m                                 Traceback (most recent call last)",
      "Cell \u001b[1;32mIn[19], line 3\u001b[0m\n\u001b[0;32m      1\u001b[0m x\u001b[38;5;241m=\u001b[39m\u001b[38;5;241m100\u001b[39m\n\u001b[0;32m      2\u001b[0m y\u001b[38;5;241m=\u001b[39m\u001b[38;5;241m100\u001b[39m\n\u001b[1;32m----> 3\u001b[0m \u001b[38;5;28;43meval\u001b[39;49m\u001b[43m(\u001b[49m\u001b[38;5;124;43m\"\u001b[39;49m\u001b[38;5;124;43mx+y\u001b[39;49m\u001b[38;5;124;43m\"\u001b[39;49m\u001b[43m,\u001b[49m\u001b[43m{\u001b[49m\u001b[43m}\u001b[49m\u001b[43m,\u001b[49m\u001b[43m{\u001b[49m\u001b[43m}\u001b[49m\u001b[43m)\u001b[49m\n",
      "File \u001b[1;32m<string>:1\u001b[0m\n",
      "\u001b[1;31mNameError\u001b[0m: name 'x' is not defined"
     ]
    }
   ],
   "source": [
    "x=100\n",
    "y=100\n",
    "eval(\"x+y\",{},{})"
   ]
  },
  {
   "cell_type": "code",
   "execution_count": null,
   "id": "6ff43765",
   "metadata": {},
   "outputs": [],
   "source": []
  }
 ],
 "metadata": {
  "kernelspec": {
   "display_name": "Python 3 (ipykernel)",
   "language": "python",
   "name": "python3"
  },
  "language_info": {
   "codemirror_mode": {
    "name": "ipython",
    "version": 3
   },
   "file_extension": ".py",
   "mimetype": "text/x-python",
   "name": "python",
   "nbconvert_exporter": "python",
   "pygments_lexer": "ipython3",
   "version": "3.11.2"
  }
 },
 "nbformat": 4,
 "nbformat_minor": 5
}
