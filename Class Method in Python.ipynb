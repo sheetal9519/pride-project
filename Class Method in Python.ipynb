{
 "cells": [
  {
   "cell_type": "markdown",
   "id": "a9ea98dc",
   "metadata": {},
   "source": [
    "Class Method and Class Variables"
   ]
  },
  {
   "cell_type": "code",
   "execution_count": 1,
   "id": "ff0a9d45",
   "metadata": {},
   "outputs": [],
   "source": [
    "class Car:\n",
    "    base_price=100000 ##Class Variables\n",
    "    def __init__(self,windows,doors,power):\n",
    "        self.windows=windows\n",
    "        self.doors=doors\n",
    "        self.power=power\n",
    "    def what_base_price(self):\n",
    "        print(\"The base price is {}\".format(self.base_price))\n",
    "    @classmethod\n",
    "    def revise_base_price(cls,inflation):\n",
    "        cls.base_price=cls.base_price+cls.base_price*inflation\n",
    "    \n"
   ]
  },
  {
   "cell_type": "code",
   "execution_count": 2,
   "id": "591fe10d",
   "metadata": {},
   "outputs": [],
   "source": [
    "Car.revise_base_price(0.10)"
   ]
  },
  {
   "cell_type": "code",
   "execution_count": 3,
   "id": "d3a40eb1",
   "metadata": {},
   "outputs": [
    {
     "data": {
      "text/plain": [
       "110000.0"
      ]
     },
     "execution_count": 3,
     "metadata": {},
     "output_type": "execute_result"
    }
   ],
   "source": [
    "Car.base_price"
   ]
  },
  {
   "cell_type": "code",
   "execution_count": 4,
   "id": "c6d3c063",
   "metadata": {},
   "outputs": [],
   "source": [
    "car1=Car(4,5,2000)"
   ]
  },
  {
   "cell_type": "code",
   "execution_count": 5,
   "id": "9ea69446",
   "metadata": {},
   "outputs": [
    {
     "data": {
      "text/plain": [
       "110000.0"
      ]
     },
     "execution_count": 5,
     "metadata": {},
     "output_type": "execute_result"
    }
   ],
   "source": [
    "car1.base_price\n"
   ]
  },
  {
   "cell_type": "code",
   "execution_count": 6,
   "id": "25495c38",
   "metadata": {},
   "outputs": [],
   "source": [
    "car1.revise_base_price(0.10)"
   ]
  },
  {
   "cell_type": "code",
   "execution_count": 7,
   "id": "651522d4",
   "metadata": {},
   "outputs": [
    {
     "data": {
      "text/plain": [
       "121000.0"
      ]
     },
     "execution_count": 7,
     "metadata": {},
     "output_type": "execute_result"
    }
   ],
   "source": [
    "car1.base_price\n"
   ]
  },
  {
   "cell_type": "code",
   "execution_count": 8,
   "id": "c9a12334",
   "metadata": {},
   "outputs": [],
   "source": [
    "car3=Car(3,4,2000)\n"
   ]
  },
  {
   "cell_type": "code",
   "execution_count": 9,
   "id": "96abeb3f",
   "metadata": {},
   "outputs": [
    {
     "data": {
      "text/plain": [
       "121000.0"
      ]
     },
     "execution_count": 9,
     "metadata": {},
     "output_type": "execute_result"
    }
   ],
   "source": [
    "car3.base_price\n"
   ]
  },
  {
   "cell_type": "code",
   "execution_count": null,
   "id": "962c394e",
   "metadata": {},
   "outputs": [],
   "source": []
  }
 ],
 "metadata": {
  "kernelspec": {
   "display_name": "Python 3 (ipykernel)",
   "language": "python",
   "name": "python3"
  },
  "language_info": {
   "codemirror_mode": {
    "name": "ipython",
    "version": 3
   },
   "file_extension": ".py",
   "mimetype": "text/x-python",
   "name": "python",
   "nbconvert_exporter": "python",
   "pygments_lexer": "ipython3",
   "version": "3.11.2"
  }
 },
 "nbformat": 4,
 "nbformat_minor": 5
}
