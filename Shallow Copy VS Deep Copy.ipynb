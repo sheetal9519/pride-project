{
 "cells": [
  {
   "cell_type": "code",
   "execution_count": 1,
   "id": "aea14b21",
   "metadata": {},
   "outputs": [],
   "source": [
    "## =,copy(),deepcopy()\n",
    "lst1=[1,2,3,4]\n",
    "lst2=lst1"
   ]
  },
  {
   "cell_type": "code",
   "execution_count": 2,
   "id": "7ca95a21",
   "metadata": {},
   "outputs": [],
   "source": [
    "lst2[1]=1000"
   ]
  },
  {
   "cell_type": "code",
   "execution_count": 3,
   "id": "81d97bc4",
   "metadata": {},
   "outputs": [
    {
     "data": {
      "text/plain": [
       "[1, 1000, 3, 4]"
      ]
     },
     "execution_count": 3,
     "metadata": {},
     "output_type": "execute_result"
    }
   ],
   "source": [
    "lst2"
   ]
  },
  {
   "cell_type": "code",
   "execution_count": 4,
   "id": "0f739fd4",
   "metadata": {},
   "outputs": [
    {
     "data": {
      "text/plain": [
       "[1, 1000, 3, 4]"
      ]
     },
     "execution_count": 4,
     "metadata": {},
     "output_type": "execute_result"
    }
   ],
   "source": [
    "lst1"
   ]
  },
  {
   "cell_type": "code",
   "execution_count": 5,
   "id": "6b1ce115",
   "metadata": {},
   "outputs": [],
   "source": [
    "##copy\n",
    "## Shallow Copy\n",
    "lst1=[1,2,3,4]\n",
    "lst2=lst1.copy()"
   ]
  },
  {
   "cell_type": "code",
   "execution_count": 6,
   "id": "c74ad88e",
   "metadata": {},
   "outputs": [],
   "source": [
    "lst2[1]=1000"
   ]
  },
  {
   "cell_type": "code",
   "execution_count": 7,
   "id": "db061d79",
   "metadata": {},
   "outputs": [
    {
     "data": {
      "text/plain": [
       "[1, 1000, 3, 4]"
      ]
     },
     "execution_count": 7,
     "metadata": {},
     "output_type": "execute_result"
    }
   ],
   "source": [
    "lst2"
   ]
  },
  {
   "cell_type": "code",
   "execution_count": 8,
   "id": "8279c513",
   "metadata": {},
   "outputs": [
    {
     "data": {
      "text/plain": [
       "[1, 2, 3, 4]"
      ]
     },
     "execution_count": 8,
     "metadata": {},
     "output_type": "execute_result"
    }
   ],
   "source": [
    "lst1"
   ]
  },
  {
   "cell_type": "code",
   "execution_count": 9,
   "id": "631b232f",
   "metadata": {},
   "outputs": [],
   "source": [
    "##copy\n",
    "## Shallow Copy\n",
    "lst1=[1,2,3,4]\n",
    "lst2=lst1.copy()\n"
   ]
  },
  {
   "cell_type": "code",
   "execution_count": 10,
   "id": "4cc19b86",
   "metadata": {},
   "outputs": [],
   "source": [
    "lst2[1]=1000"
   ]
  },
  {
   "cell_type": "code",
   "execution_count": 11,
   "id": "2ca6d70d",
   "metadata": {},
   "outputs": [
    {
     "data": {
      "text/plain": [
       "([1, 1000, 3, 4], [1, 2, 3, 4])"
      ]
     },
     "execution_count": 11,
     "metadata": {},
     "output_type": "execute_result"
    }
   ],
   "source": [
    "lst2,lst1"
   ]
  },
  {
   "cell_type": "code",
   "execution_count": 12,
   "id": "4eefc42e",
   "metadata": {},
   "outputs": [],
   "source": [
    "## Shallow Copy nested list\n",
    "lst1=[[1,2,3,4],[5,6,7,8]]\n",
    "lst2=lst1.copy()"
   ]
  },
  {
   "cell_type": "code",
   "execution_count": 13,
   "id": "5f09596f",
   "metadata": {},
   "outputs": [],
   "source": [
    "lst1[1][0]=100"
   ]
  },
  {
   "cell_type": "code",
   "execution_count": 14,
   "id": "27f72dcf",
   "metadata": {},
   "outputs": [
    {
     "data": {
      "text/plain": [
       "[[1, 2, 3, 4], [100, 6, 7, 8]]"
      ]
     },
     "execution_count": 14,
     "metadata": {},
     "output_type": "execute_result"
    }
   ],
   "source": [
    "lst1"
   ]
  },
  {
   "cell_type": "code",
   "execution_count": 15,
   "id": "b051bb8c",
   "metadata": {},
   "outputs": [
    {
     "data": {
      "text/plain": [
       "[[1, 2, 3, 4], [100, 6, 7, 8]]"
      ]
     },
     "execution_count": 15,
     "metadata": {},
     "output_type": "execute_result"
    }
   ],
   "source": [
    "lst2"
   ]
  },
  {
   "cell_type": "code",
   "execution_count": 16,
   "id": "29533627",
   "metadata": {},
   "outputs": [],
   "source": [
    "lst1.append([2,3,4,5])\n"
   ]
  },
  {
   "cell_type": "code",
   "execution_count": 17,
   "id": "8f192b58",
   "metadata": {},
   "outputs": [
    {
     "data": {
      "text/plain": [
       "[[1, 2, 3, 4], [100, 6, 7, 8], [2, 3, 4, 5]]"
      ]
     },
     "execution_count": 17,
     "metadata": {},
     "output_type": "execute_result"
    }
   ],
   "source": [
    "lst1"
   ]
  },
  {
   "cell_type": "code",
   "execution_count": 18,
   "id": "172affd4",
   "metadata": {},
   "outputs": [
    {
     "data": {
      "text/plain": [
       "[[1, 2, 3, 4], [100, 6, 7, 8]]"
      ]
     },
     "execution_count": 18,
     "metadata": {},
     "output_type": "execute_result"
    }
   ],
   "source": [
    "lst2"
   ]
  },
  {
   "cell_type": "code",
   "execution_count": 19,
   "id": "d9069087",
   "metadata": {},
   "outputs": [],
   "source": [
    "##deep copy\n",
    "import copy\n",
    "lst1=[1,2,3,4]\n",
    "lst2=copy.deepcopy(lst1)\n"
   ]
  },
  {
   "cell_type": "code",
   "execution_count": 20,
   "id": "7b2a1bdd",
   "metadata": {},
   "outputs": [],
   "source": [
    "lst2[1]=100\n"
   ]
  },
  {
   "cell_type": "code",
   "execution_count": 21,
   "id": "9516a831",
   "metadata": {},
   "outputs": [
    {
     "data": {
      "text/plain": [
       "[1, 100, 3, 4]"
      ]
     },
     "execution_count": 21,
     "metadata": {},
     "output_type": "execute_result"
    }
   ],
   "source": [
    "lst2"
   ]
  },
  {
   "cell_type": "code",
   "execution_count": 22,
   "id": "aaee53eb",
   "metadata": {},
   "outputs": [
    {
     "data": {
      "text/plain": [
       "[1, 2, 3, 4]"
      ]
     },
     "execution_count": 22,
     "metadata": {},
     "output_type": "execute_result"
    }
   ],
   "source": [
    "lst1"
   ]
  },
  {
   "cell_type": "code",
   "execution_count": 23,
   "id": "8d970fdb",
   "metadata": {},
   "outputs": [],
   "source": [
    "lst1=[[1,2,3],[3,4,5,],[5,6,7]]\n",
    "lst2=lst1.copy()\n"
   ]
  },
  {
   "cell_type": "code",
   "execution_count": 24,
   "id": "1709dfce",
   "metadata": {},
   "outputs": [],
   "source": [
    "lst1=[[1,2,3],[3,4,5,],[5,6,7]]\n",
    "lst2=copy.deepcopy(lst1)\n"
   ]
  },
  {
   "cell_type": "code",
   "execution_count": 25,
   "id": "4e55753b",
   "metadata": {},
   "outputs": [
    {
     "data": {
      "text/plain": [
       "[[1, 2, 3], [3, 4, 5], [5, 6, 7]]"
      ]
     },
     "execution_count": 25,
     "metadata": {},
     "output_type": "execute_result"
    }
   ],
   "source": [
    "lst2"
   ]
  },
  {
   "cell_type": "code",
   "execution_count": 26,
   "id": "ba6adc22",
   "metadata": {},
   "outputs": [
    {
     "data": {
      "text/plain": [
       "[[1, 2, 3], [3, 4, 5], [5, 6, 7]]"
      ]
     },
     "execution_count": 26,
     "metadata": {},
     "output_type": "execute_result"
    }
   ],
   "source": [
    "\n",
    "lst1\n"
   ]
  },
  {
   "cell_type": "code",
   "execution_count": null,
   "id": "c30e1b0f",
   "metadata": {},
   "outputs": [],
   "source": []
  }
 ],
 "metadata": {
  "kernelspec": {
   "display_name": "Python 3 (ipykernel)",
   "language": "python",
   "name": "python3"
  },
  "language_info": {
   "codemirror_mode": {
    "name": "ipython",
    "version": 3
   },
   "file_extension": ".py",
   "mimetype": "text/x-python",
   "name": "python",
   "nbconvert_exporter": "python",
   "pygments_lexer": "ipython3",
   "version": "3.11.2"
  }
 },
 "nbformat": 4,
 "nbformat_minor": 5
}
