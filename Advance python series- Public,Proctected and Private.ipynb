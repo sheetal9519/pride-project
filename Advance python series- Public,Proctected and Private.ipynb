{
 "cells": [
  {
   "cell_type": "markdown",
   "id": "12056099",
   "metadata": {},
   "source": [
    "Python OOPS- Public,Protected and Private"
   ]
  },
  {
   "cell_type": "code",
   "execution_count": 1,
   "id": "ecbac8e7",
   "metadata": {},
   "outputs": [],
   "source": [
    "### All the class variables are public\n",
    "class Car():\n",
    "    def __init__(self,windows,doors,enginetype):\n",
    "        self.windows=windows\n",
    "        self.doors=doors\n",
    "        self.enginetype=enginetype\n",
    "    \n"
   ]
  },
  {
   "cell_type": "code",
   "execution_count": 2,
   "id": "639db3ce",
   "metadata": {},
   "outputs": [],
   "source": [
    "audi=Car(4,5,\"Diesel\")"
   ]
  },
  {
   "cell_type": "code",
   "execution_count": 3,
   "id": "4efe405e",
   "metadata": {},
   "outputs": [],
   "source": [
    "audi.windows=5"
   ]
  },
  {
   "cell_type": "code",
   "execution_count": 4,
   "id": "c2c7c77b",
   "metadata": {},
   "outputs": [
    {
     "data": {
      "text/plain": [
       "5"
      ]
     },
     "execution_count": 4,
     "metadata": {},
     "output_type": "execute_result"
    }
   ],
   "source": [
    "audi.windows"
   ]
  },
  {
   "cell_type": "code",
   "execution_count": 5,
   "id": "039acd75",
   "metadata": {},
   "outputs": [],
   "source": [
    "### All the class variables are protected\n",
    "class Car():\n",
    "    def __init__(self,windows,doors,enginetype):\n",
    "        self._windows=windows\n",
    "        self._doors=doors\n",
    "        self._enginetype=enginetype\n"
   ]
  },
  {
   "cell_type": "code",
   "execution_count": 6,
   "id": "44348441",
   "metadata": {},
   "outputs": [],
   "source": [
    "class Truck(Car):\n",
    "    def __init__(self,windows,doors,enginetype,horsepower):\n",
    "        super().__init__(windows,doors,enginetype)\n",
    "        self.horsepowwer=horsepower"
   ]
  },
  {
   "cell_type": "code",
   "execution_count": 7,
   "id": "5a135813",
   "metadata": {},
   "outputs": [
    {
     "data": {
      "text/plain": [
       "['__class__',\n",
       " '__delattr__',\n",
       " '__dict__',\n",
       " '__dir__',\n",
       " '__doc__',\n",
       " '__eq__',\n",
       " '__format__',\n",
       " '__ge__',\n",
       " '__getattribute__',\n",
       " '__getstate__',\n",
       " '__gt__',\n",
       " '__hash__',\n",
       " '__init__',\n",
       " '__init_subclass__',\n",
       " '__le__',\n",
       " '__lt__',\n",
       " '__module__',\n",
       " '__ne__',\n",
       " '__new__',\n",
       " '__reduce__',\n",
       " '__reduce_ex__',\n",
       " '__repr__',\n",
       " '__setattr__',\n",
       " '__sizeof__',\n",
       " '__str__',\n",
       " '__subclasshook__',\n",
       " '__weakref__',\n",
       " '_doors',\n",
       " '_enginetype',\n",
       " '_windows',\n",
       " 'horsepowwer']"
      ]
     },
     "execution_count": 7,
     "metadata": {},
     "output_type": "execute_result"
    }
   ],
   "source": [
    "truck=Truck(4,4,\"Diesel\",4000)\n",
    "dir(truck)\n"
   ]
  },
  {
   "cell_type": "code",
   "execution_count": 8,
   "id": "c65abb64",
   "metadata": {},
   "outputs": [],
   "source": [
    "truck._doors=5"
   ]
  },
  {
   "cell_type": "code",
   "execution_count": 9,
   "id": "4c0fc855",
   "metadata": {},
   "outputs": [
    {
     "data": {
      "text/plain": [
       "5"
      ]
     },
     "execution_count": 9,
     "metadata": {},
     "output_type": "execute_result"
    }
   ],
   "source": [
    "truck._doors"
   ]
  },
  {
   "cell_type": "code",
   "execution_count": 10,
   "id": "5ecee413",
   "metadata": {},
   "outputs": [],
   "source": [
    "### private\n",
    "class Car():\n",
    "    def __init__(self,windows,doors,enginetype):\n",
    "        self.__windows=windows\n",
    "        self.__doors=doors\n",
    "        self.__enginetype=enginetype"
   ]
  },
  {
   "cell_type": "code",
   "execution_count": 11,
   "id": "850d0dee",
   "metadata": {},
   "outputs": [],
   "source": [
    "audi=Car(4,4,\"Diesel\")"
   ]
  },
  {
   "cell_type": "code",
   "execution_count": 12,
   "id": "f88fb83b",
   "metadata": {},
   "outputs": [],
   "source": [
    "audi._Car__doors=5"
   ]
  },
  {
   "cell_type": "code",
   "execution_count": 13,
   "id": "ef9cf19d",
   "metadata": {},
   "outputs": [
    {
     "data": {
      "text/plain": [
       "['_Car__doors',\n",
       " '_Car__enginetype',\n",
       " '_Car__windows',\n",
       " '__class__',\n",
       " '__delattr__',\n",
       " '__dict__',\n",
       " '__dir__',\n",
       " '__doc__',\n",
       " '__eq__',\n",
       " '__format__',\n",
       " '__ge__',\n",
       " '__getattribute__',\n",
       " '__getstate__',\n",
       " '__gt__',\n",
       " '__hash__',\n",
       " '__init__',\n",
       " '__init_subclass__',\n",
       " '__le__',\n",
       " '__lt__',\n",
       " '__module__',\n",
       " '__ne__',\n",
       " '__new__',\n",
       " '__reduce__',\n",
       " '__reduce_ex__',\n",
       " '__repr__',\n",
       " '__setattr__',\n",
       " '__sizeof__',\n",
       " '__str__',\n",
       " '__subclasshook__',\n",
       " '__weakref__']"
      ]
     },
     "execution_count": 13,
     "metadata": {},
     "output_type": "execute_result"
    }
   ],
   "source": [
    "dir(audi)"
   ]
  },
  {
   "cell_type": "code",
   "execution_count": null,
   "id": "a4719bcb",
   "metadata": {},
   "outputs": [],
   "source": []
  }
 ],
 "metadata": {
  "kernelspec": {
   "display_name": "Python 3 (ipykernel)",
   "language": "python",
   "name": "python3"
  },
  "language_info": {
   "codemirror_mode": {
    "name": "ipython",
    "version": 3
   },
   "file_extension": ".py",
   "mimetype": "text/x-python",
   "name": "python",
   "nbconvert_exporter": "python",
   "pygments_lexer": "ipython3",
   "version": "3.11.2"
  }
 },
 "nbformat": 4,
 "nbformat_minor": 5
}
